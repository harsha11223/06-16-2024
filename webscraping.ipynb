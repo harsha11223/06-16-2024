{
  "nbformat": 4,
  "nbformat_minor": 0,
  "metadata": {
    "colab": {
      "provenance": [],
      "authorship_tag": "ABX9TyMxOF66aIPeH0GIlnq/AfZz",
      "include_colab_link": true
    },
    "kernelspec": {
      "name": "python3",
      "display_name": "Python 3"
    },
    "language_info": {
      "name": "python"
    }
  },
  "cells": [
    {
      "cell_type": "markdown",
      "metadata": {
        "id": "view-in-github",
        "colab_type": "text"
      },
      "source": [
        "<a href=\"https://colab.research.google.com/github/harsha11223/06-16-2024/blob/main/webscraping.ipynb\" target=\"_parent\"><img src=\"https://colab.research.google.com/assets/colab-badge.svg\" alt=\"Open In Colab\"/></a>"
      ]
    },
    {
      "cell_type": "code",
      "execution_count": 1,
      "metadata": {
        "id": "7hMnx0J6pCPp",
        "colab": {
          "base_uri": "https://localhost:8080/"
        },
        "outputId": "908f85fc-b806-426a-cae4-2fe66dc99415"
      },
      "outputs": [
        {
          "output_type": "stream",
          "name": "stdout",
          "text": [
            "Requirement already satisfied: requests in /usr/local/lib/python3.11/dist-packages (2.32.3)\n",
            "Requirement already satisfied: beautifulsoup4 in /usr/local/lib/python3.11/dist-packages (4.13.4)\n",
            "Requirement already satisfied: nltk in /usr/local/lib/python3.11/dist-packages (3.9.1)\n",
            "Requirement already satisfied: pandas in /usr/local/lib/python3.11/dist-packages (2.2.2)\n",
            "Requirement already satisfied: charset-normalizer<4,>=2 in /usr/local/lib/python3.11/dist-packages (from requests) (3.4.2)\n",
            "Requirement already satisfied: idna<4,>=2.5 in /usr/local/lib/python3.11/dist-packages (from requests) (3.10)\n",
            "Requirement already satisfied: urllib3<3,>=1.21.1 in /usr/local/lib/python3.11/dist-packages (from requests) (2.4.0)\n",
            "Requirement already satisfied: certifi>=2017.4.17 in /usr/local/lib/python3.11/dist-packages (from requests) (2025.6.15)\n",
            "Requirement already satisfied: soupsieve>1.2 in /usr/local/lib/python3.11/dist-packages (from beautifulsoup4) (2.7)\n",
            "Requirement already satisfied: typing-extensions>=4.0.0 in /usr/local/lib/python3.11/dist-packages (from beautifulsoup4) (4.14.0)\n",
            "Requirement already satisfied: click in /usr/local/lib/python3.11/dist-packages (from nltk) (8.2.1)\n",
            "Requirement already satisfied: joblib in /usr/local/lib/python3.11/dist-packages (from nltk) (1.5.1)\n",
            "Requirement already satisfied: regex>=2021.8.3 in /usr/local/lib/python3.11/dist-packages (from nltk) (2024.11.6)\n",
            "Requirement already satisfied: tqdm in /usr/local/lib/python3.11/dist-packages (from nltk) (4.67.1)\n",
            "Requirement already satisfied: numpy>=1.23.2 in /usr/local/lib/python3.11/dist-packages (from pandas) (2.0.2)\n",
            "Requirement already satisfied: python-dateutil>=2.8.2 in /usr/local/lib/python3.11/dist-packages (from pandas) (2.9.0.post0)\n",
            "Requirement already satisfied: pytz>=2020.1 in /usr/local/lib/python3.11/dist-packages (from pandas) (2025.2)\n",
            "Requirement already satisfied: tzdata>=2022.7 in /usr/local/lib/python3.11/dist-packages (from pandas) (2025.2)\n",
            "Requirement already satisfied: six>=1.5 in /usr/local/lib/python3.11/dist-packages (from python-dateutil>=2.8.2->pandas) (1.17.0)\n"
          ]
        }
      ],
      "source": [
        "pip install requests beautifulsoup4 nltk pandas\n"
      ]
    },
    {
      "cell_type": "code",
      "source": [
        "import nltk\n",
        "nltk.download('vader_lexicon')\n",
        "nltk.download('punkt')\n",
        "nltk.download('wordnet')\n",
        "nltk.download('punkt_tab')"
      ],
      "metadata": {
        "colab": {
          "base_uri": "https://localhost:8080/"
        },
        "id": "uOuo2CLhrCpu",
        "outputId": "78033f25-6d12-48f4-9fb2-79fcdf5bc174"
      },
      "execution_count": 15,
      "outputs": [
        {
          "output_type": "stream",
          "name": "stderr",
          "text": [
            "[nltk_data] Downloading package vader_lexicon to /root/nltk_data...\n",
            "[nltk_data]   Package vader_lexicon is already up-to-date!\n",
            "[nltk_data] Downloading package punkt to /root/nltk_data...\n",
            "[nltk_data]   Package punkt is already up-to-date!\n",
            "[nltk_data] Downloading package wordnet to /root/nltk_data...\n",
            "[nltk_data]   Package wordnet is already up-to-date!\n",
            "[nltk_data] Downloading package punkt_tab to /root/nltk_data...\n",
            "[nltk_data]   Unzipping tokenizers/punkt_tab.zip.\n"
          ]
        },
        {
          "output_type": "execute_result",
          "data": {
            "text/plain": [
              "True"
            ]
          },
          "metadata": {},
          "execution_count": 15
        }
      ]
    },
    {
      "cell_type": "code",
      "source": [
        "import requests\n",
        "from bs4 import BeautifulSoup\n",
        "\n",
        "url = 'https://www.news9.com/category/5e3347bf1290151d52141553/news'\n",
        "response = requests.get(url)\n",
        "soup = BeautifulSoup(response.text, 'html.parser')\n",
        "\n",
        "headlines = [tag.text for tag in soup.find_all('h3')]\n",
        "for line in headlines:\n",
        "    print(line)\n"
      ],
      "metadata": {
        "colab": {
          "base_uri": "https://localhost:8080/"
        },
        "id": "7-DfkLhKre4o",
        "outputId": "050233b7-2e82-4020-8cec-c837147570c4"
      },
      "execution_count": 10,
      "outputs": [
        {
          "output_type": "stream",
          "name": "stdout",
          "text": [
            "Here’s how Iran could retaliate after US strikes on its nuclear program\n",
            "Lankford: U.S. must act to stop Iran’s nuclear threat and protect American lives\n",
            "Truck crashes off I-44 off-ramp in northwest OKC\n",
            "Childcare, firefighter aid, and mental health lead 2025 Oklahoma legislative priorities\n",
            "Moped crash leaves 1 dead, 1 injured in Seminole County on Friday\n",
            "Hot, windy Sunday with storms possible in northwest Oklahoma\n",
            "Iran may retaliate after latest US strike, OU professor warns\n",
            "Iran may retaliate after latest US strike, OU professor warns\n",
            "Pentagon officials reveal new details about strikes on Iran's nuclear sites\n",
            "Pentagon officials reveal new details about strikes on Iran's nuclear sites\n",
            "A family is outraged after a four-year-old boy catches fire at a children's museum in Seminole\n",
            "A family is outraged after a four-year-old boy catches fire at a children's museum in Seminole\n",
            "One injured in rollover crash near Lake Hefner Parkway\n",
            "One injured in rollover crash near Lake Hefner Parkway\n",
            "Trump calls U.S. strikes on Iran a \"spectacular military success,\" warns of more attacks if Iran doesn't make peace\n",
            "Trump calls U.S. strikes on Iran a \"spectacular military success,\" warns of more attacks if Iran doesn't make peace\n",
            "Sen. Markwayne Mullin defends Trump’s Iran strike announcement, calls it an end to 'forever war'\n",
            "Sen. Markwayne Mullin defends Trump’s Iran strike announcement, calls it an end to 'forever war'\n",
            "Large tree causes power outage in Edmond\n",
            "Large tree causes power outage in Edmond\n",
            "Guthrie 19-year-old opens Oklahoma's largest cat café\n",
            "Guthrie 19-year-old opens Oklahoma's largest cat café\n",
            "A family is outraged after a four-year-old boy catches fire at a children's museum in Seminole\n",
            "A family is outraged after a four-year-old boy catches fire at a children's museum in Seminole\n",
            "Large tree causes power outage in Edmond\n",
            "Guthrie 19-year-old opens Oklahoma's largest cat café\n",
            "A family is outraged after a four-year-old boy catches fire at a children's museum in Seminole\n",
            "Two men killed in head-on crash near Cromwell\n",
            "Sen. Markwayne Mullin defends Trump’s Iran strike announcement, calls it an end to 'forever war'\n",
            "Iran may retaliate after latest US strike, OU professor warns\n",
            "US has struck three Iranian nuclear sites, Trump says, joining Israeli air campaign\n",
            "US has struck three Iranian nuclear sites, Trump says, joining Israeli air campaign\n",
            "Trump claims U.S. bombed Iranian nuclear sites in social media post\n",
            "Trump claims U.S. bombed Iranian nuclear sites in social media post\n",
            "Two men killed in head-on crash near Cromwell\n",
            "Two men killed in head-on crash near Cromwell\n",
            "Pacers head coach Rick Carlisle embraces pressure ahead of NBA Finals Game 7\n",
            "Pacers head coach Rick Carlisle embraces pressure ahead of NBA Finals Game 7\n",
            "Tyrese Haliburton credits defense, focus as Pacers face Thunder in Game 7\n",
            "Tyrese Haliburton credits defense, focus as Pacers face Thunder in Game 7\n",
            "This Week: Sword attack, ICE arrest fallout, and lightning strikes\n",
            "This Week: Sword attack, ICE arrest fallout, and lightning strikes\n"
          ]
        }
      ]
    },
    {
      "cell_type": "code",
      "source": [
        "from nltk.stem import WordNetLemmatizer\n",
        "from nltk.tokenize import word_tokenize\n",
        "import string\n",
        "\n",
        "lemmatizer = WordNetLemmatizer()\n",
        "\n",
        "def preprocess(text):\n",
        "    tokens = word_tokenize(text.lower())\n",
        "    tokens = [lemmatizer.lemmatize(t) for t in tokens if t not in string.punctuation]\n",
        "    return \" \".join(tokens)\n"
      ],
      "metadata": {
        "id": "3JvMic7Yr1ge"
      },
      "execution_count": 13,
      "outputs": []
    },
    {
      "cell_type": "code",
      "source": [
        "from nltk.sentiment import SentimentIntensityAnalyzer\n",
        "import pandas as pd\n",
        "\n",
        "sia = SentimentIntensityAnalyzer()\n",
        "\n",
        "data = []\n",
        "for headline in headlines:\n",
        "    cleaned = preprocess(headline)\n",
        "    sentiment = sia.polarity_scores(cleaned)\n",
        "    data.append({\n",
        "        'headline': headline,\n",
        "        'cleaned': cleaned,\n",
        "        'sentiment': sentiment['compound']\n",
        "    })\n",
        "\n",
        "df = pd.DataFrame(data)\n",
        "print(df.head())\n"
      ],
      "metadata": {
        "colab": {
          "base_uri": "https://localhost:8080/"
        },
        "id": "sYd4-JRksLiq",
        "outputId": "bfb8df73-c953-4d6d-f8f9-f7ddf389eb59"
      },
      "execution_count": 16,
      "outputs": [
        {
          "output_type": "stream",
          "name": "stdout",
          "text": [
            "                                            headline  \\\n",
            "0  Here’s how Iran could retaliate after US strik...   \n",
            "1  Lankford: U.S. must act to stop Iran’s nuclear...   \n",
            "2   Truck crashes off I-44 off-ramp in northwest OKC   \n",
            "3  Childcare, firefighter aid, and mental health ...   \n",
            "4  Moped crash leaves 1 dead, 1 injured in Semino...   \n",
            "\n",
            "                                             cleaned  sentiment  \n",
            "0  here ’ s how iran could retaliate after u stri...    -0.1280  \n",
            "1  lankford u.s. must act to stop iran ’ s nuclea...    -0.4588  \n",
            "2     truck crash off i-44 off-ramp in northwest okc    -0.4019  \n",
            "3  childcare firefighter aid and mental health le...     0.0000  \n",
            "4  moped crash leaf 1 dead 1 injured in seminole ...    -0.8658  \n"
          ]
        }
      ]
    },
    {
      "cell_type": "code",
      "source": [
        "df.to_csv('financial_sentiment_data.csv', index=False)\n"
      ],
      "metadata": {
        "id": "wl3mhqKosNfG"
      },
      "execution_count": 18,
      "outputs": []
    },
    {
      "cell_type": "code",
      "source": [
        "from IPython.display import FileLink\n",
        "\n",
        "FileLink('financial_sentiment_data.csv')\n"
      ],
      "metadata": {
        "colab": {
          "base_uri": "https://localhost:8080/",
          "height": 34
        },
        "id": "g01R612usPYZ",
        "outputId": "654c25b0-0102-42ba-cf8e-2c2d20ca58a2"
      },
      "execution_count": 19,
      "outputs": [
        {
          "output_type": "execute_result",
          "data": {
            "text/plain": [
              "/content/financial_sentiment_data.csv"
            ],
            "text/html": [
              "<a href='financial_sentiment_data.csv' target='_blank'>financial_sentiment_data.csv</a><br>"
            ]
          },
          "metadata": {},
          "execution_count": 19
        }
      ]
    },
    {
      "cell_type": "code",
      "source": [
        "from google.colab import files\n",
        "files.download('financial_sentiment_data.csv')\n"
      ],
      "metadata": {
        "colab": {
          "base_uri": "https://localhost:8080/",
          "height": 17
        },
        "id": "ksTaMgeSti9X",
        "outputId": "5eb3e9e4-ea11-4a81-de70-106a7ae5947c"
      },
      "execution_count": 20,
      "outputs": [
        {
          "output_type": "display_data",
          "data": {
            "text/plain": [
              "<IPython.core.display.Javascript object>"
            ],
            "application/javascript": [
              "\n",
              "    async function download(id, filename, size) {\n",
              "      if (!google.colab.kernel.accessAllowed) {\n",
              "        return;\n",
              "      }\n",
              "      const div = document.createElement('div');\n",
              "      const label = document.createElement('label');\n",
              "      label.textContent = `Downloading \"${filename}\": `;\n",
              "      div.appendChild(label);\n",
              "      const progress = document.createElement('progress');\n",
              "      progress.max = size;\n",
              "      div.appendChild(progress);\n",
              "      document.body.appendChild(div);\n",
              "\n",
              "      const buffers = [];\n",
              "      let downloaded = 0;\n",
              "\n",
              "      const channel = await google.colab.kernel.comms.open(id);\n",
              "      // Send a message to notify the kernel that we're ready.\n",
              "      channel.send({})\n",
              "\n",
              "      for await (const message of channel.messages) {\n",
              "        // Send a message to notify the kernel that we're ready.\n",
              "        channel.send({})\n",
              "        if (message.buffers) {\n",
              "          for (const buffer of message.buffers) {\n",
              "            buffers.push(buffer);\n",
              "            downloaded += buffer.byteLength;\n",
              "            progress.value = downloaded;\n",
              "          }\n",
              "        }\n",
              "      }\n",
              "      const blob = new Blob(buffers, {type: 'application/binary'});\n",
              "      const a = document.createElement('a');\n",
              "      a.href = window.URL.createObjectURL(blob);\n",
              "      a.download = filename;\n",
              "      div.appendChild(a);\n",
              "      a.click();\n",
              "      div.remove();\n",
              "    }\n",
              "  "
            ]
          },
          "metadata": {}
        },
        {
          "output_type": "display_data",
          "data": {
            "text/plain": [
              "<IPython.core.display.Javascript object>"
            ],
            "application/javascript": [
              "download(\"download_fc0323c4-0461-44be-ad8a-70dfcea9beab\", \"financial_sentiment_data.csv\", 6341)"
            ]
          },
          "metadata": {}
        }
      ]
    },
    {
      "cell_type": "code",
      "source": [],
      "metadata": {
        "id": "HsuPcCmZ8Bbm"
      },
      "execution_count": null,
      "outputs": []
    }
  ]
}